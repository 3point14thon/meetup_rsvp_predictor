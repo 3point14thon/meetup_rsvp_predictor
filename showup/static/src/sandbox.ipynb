{
 "cells": [
  {
   "cell_type": "code",
   "execution_count": 16,
   "metadata": {},
   "outputs": [],
   "source": [
    "import requests\n",
    "import numpy as np\n",
    "import datetime\n",
    "import pandas as pd\n",
    "from api_key import api_key\n",
    "from meetup_api_client import MeetupApiClient\n",
    "from pymongo import MongoClient\n",
    "from urllib.parse import urlunparse, urlparse, urlsplit"
   ]
  },
  {
   "cell_type": "code",
   "execution_count": 17,
   "metadata": {},
   "outputs": [],
   "source": [
    "mc = MongoClient()\n",
    "db = mc['meetups']\n",
    "events = db['past_3years_meetup_events']\n",
    "groups = db['groups']"
   ]
  },
  {
   "cell_type": "code",
   "execution_count": null,
   "metadata": {
    "scrolled": false
   },
   "outputs": [],
   "source": [
    "start_date = '2015-08-08T00:00:00.000'\n",
    "end_date = '2018-08-08T00:00:00.000'\n",
    "mac = MeetupApiClient()\n",
    "mac.find_past_events(start_date, end_date, groups, events)"
   ]
  },
  {
   "cell_type": "code",
   "execution_count": 6,
   "metadata": {},
   "outputs": [],
   "source": [
    "header = mac.prev_res"
   ]
  },
  {
   "cell_type": "code",
   "execution_count": null,
   "metadata": {
    "scrolled": false
   },
   "outputs": [
    {
     "name": "stdout",
     "output_type": "stream",
     "text": [
      "> /home/cb/Documents/galvanize/assignments/meetup_rsvp_predictor/meetup_api_client.py(57)get_items()\n",
      "-> while 'Link' in header and header['Link'].partition(',')[0].partition(';')[2] == ' rel=\"next\"':\n",
      "(Pdb) n\n",
      "--Return--\n",
      "> /home/cb/Documents/galvanize/assignments/meetup_rsvp_predictor/meetup_api_client.py(57)get_items()->None\n",
      "-> while 'Link' in header and header['Link'].partition(',')[0].partition(';')[2] == ' rel=\"next\"':\n",
      "(Pdb) n\n",
      "--Return--\n",
      "> /home/cb/Documents/galvanize/assignments/meetup_rsvp_predictor/meetup_api_client.py(95)get_events()->None\n",
      "-> self.get_items(urlname + '/events', params, table)\n",
      "(Pdb) n\n",
      "> /home/cb/Documents/galvanize/assignments/meetup_rsvp_predictor/meetup_api_client.py(105)find_past_events()\n",
      "-> for group in groups['data']:\n",
      "(Pdb) header\n",
      "*** NameError: name 'header' is not defined\n"
     ]
    }
   ],
   "source": [
    "start_date = '2015-08-08T00:00:00.000'\n",
    "end_date = '2018-08-08T00:00:00.000'\n",
    "mac = MeetupApiClient()\n",
    "mac.find_past_events(start_date, end_date, groups, events)"
   ]
  },
  {
   "cell_type": "code",
   "execution_count": 3,
   "metadata": {},
   "outputs": [
    {
     "name": "stdout",
     "output_type": "stream",
     "text": [
      "Automatic pdb calling has been turned ON\n"
     ]
    }
   ],
   "source": [
    "%pdb"
   ]
  },
  {
   "cell_type": "code",
   "execution_count": null,
   "metadata": {},
   "outputs": [],
   "source": [
    "mac.current_res.status_code"
   ]
  },
  {
   "cell_type": "code",
   "execution_count": null,
   "metadata": {},
   "outputs": [],
   "source": [
    "mac.current_res.headers"
   ]
  },
  {
   "cell_type": "code",
   "execution_count": null,
   "metadata": {},
   "outputs": [],
   "source": [
    "mac.current_res.url"
   ]
  },
  {
   "cell_type": "code",
   "execution_count": null,
   "metadata": {
    "scrolled": true
   },
   "outputs": [],
   "source": [
    "mac.prev_res"
   ]
  },
  {
   "cell_type": "code",
   "execution_count": 9,
   "metadata": {},
   "outputs": [
    {
     "data": {
      "text/plain": [
       "True"
      ]
     },
     "execution_count": 9,
     "metadata": {},
     "output_type": "execute_result"
    }
   ],
   "source": [
    "header['Link'].partition(',')[0].partition(';')[2] == ' rel=\"next\"'"
   ]
  },
  {
   "cell_type": "code",
   "execution_count": 11,
   "metadata": {},
   "outputs": [
    {
     "data": {
      "text/plain": [
       "'<https://api.meetup.com/Diamond-Way-Buddhism-Seattle/events?scroll=since%3A2017-12-10T16%3A00%3A00.000-08%3A00&key=287212e3b5315867c1a741559133&no_later_than=2018-08-08T00%3A00%3A00.000&status=past&fields=description_images%2C%0A+++++++++++++++++++++++++++++++++++++++event_hosts%2C%0A+++++++++++++++++++++++++++++++++++++++featured%2C%0A+++++++++++++++++++++++++++++++++++++++featured_photo%2C%0A+++++++++++++++++++++++++++++++++++++++fee_options%2C%0A+++++++++++++++++++++++++++++++++++++++group_category%2C%0A+++++++++++++++++++++++++++++++++++++++group_join_info%2C%0A+++++++++++++++++++++++++++++++++++++++group_key_photo%2C%0A+++++++++++++++++++++++++++++++++++++++group_membership_dues%2C%0A+++++++++++++++++++++++++++++++++++++++meta_category%2C%0A+++++++++++++++++++++++++++++++++++++++best_topics%2C%0A+++++++++++++++++++++++++++++++++++++++group_past_event_count%2C%0A+++++++++++++++++++++++++++++++++++++++group_photo%2C%0A+++++++++++++++++++++++++++++++++++++++group_pro_network%2C%0A+++++++++++++++++++++++++++++++++++++++group_topics%2C%0A+++++++++++++++++++++++++++++++++++++++group_join_info%2C%0A+++++++++++++++++++++++++++++++++++++++how_to_find_us%2C%0A+++++++++++++++++++++++++++++++++++++++group_visibility%2C%0A+++++++++++++++++++++++++++++++++++++++plain_text_no_images_description%2C%0A+++++++++++++++++++++++++++++++++++++++rsvp_rules%2C%0A+++++++++++++++++++++++++++++++++++++++series%2C%0A+++++++++++++++++++++++++++++++++++++++answers%0A+++++++++++++++++++++++++++++++++++++++&no_earlier_than=2015-08-08T00%3A00%3A00.000>'"
      ]
     },
     "execution_count": 11,
     "metadata": {},
     "output_type": "execute_result"
    }
   ],
   "source": [
    "header['Link'].partition(',')[0].partition(';')[0]"
   ]
  },
  {
   "cell_type": "code",
   "execution_count": null,
   "metadata": {
    "scrolled": true
   },
   "outputs": [],
   "source": [
    "start_date = datetime.datetime(2015,8,8).strftime('%s') + '000'\n",
    "end_date = datetime.datetime(2018,8,8).strftime('%s') + '000'\n",
    "params = {'country': 'us',\n",
    "          'city': 'seattle',\n",
    "          'state': 'wa',\n",
    "          'radius': '100',\n",
    "          'page': '200',\n",
    "          'key': api_key()}\n",
    "mac = MeetupApiClient()\n",
    "#test = mac.find_past_events(params, start_date, end_date, events)\n",
    "res = requests.get(mac.meetup_url + 'find/groups', params)"
   ]
  },
  {
   "cell_type": "code",
   "execution_count": null,
   "metadata": {},
   "outputs": [],
   "source": [
    "res.url"
   ]
  },
  {
   "cell_type": "markdown",
   "metadata": {},
   "source": [
    "Looks like header contains the number of results and a link to get the next page of results"
   ]
  },
  {
   "cell_type": "markdown",
   "metadata": {},
   "source": [
    "put group data in table"
   ]
  },
  {
   "cell_type": "code",
   "execution_count": null,
   "metadata": {},
   "outputs": [],
   "source": [
    "mac = MeetupApiClient()\n",
    "params = {'country': 'us',\n",
    "          'city': 'seattle',\n",
    "          'state': 'wa',\n",
    "          'radius': '100'}\n",
    "res = mac.get_groups(params, groups)"
   ]
  },
  {
   "cell_type": "markdown",
   "metadata": {},
   "source": [
    "conversion to usfull dataframe"
   ]
  },
  {
   "cell_type": "code",
   "execution_count": null,
   "metadata": {},
   "outputs": [],
   "source": [
    "df = pd.DataFrame()\n",
    "for event in events.find():\n",
    "    df = pd.concat([df,  pd.DataFrame(event['data'])], sort=True)"
   ]
  },
  {
   "cell_type": "markdown",
   "metadata": {},
   "source": [
    "data has some duplicates but some values appear to differ between these duplicates(duplicate is defined as multiple events with the same id)"
   ]
  },
  {
   "cell_type": "code",
   "execution_count": null,
   "metadata": {},
   "outputs": [],
   "source": [
    "df.isnull().sum()"
   ]
  },
  {
   "cell_type": "code",
   "execution_count": null,
   "metadata": {},
   "outputs": [],
   "source": []
  },
  {
   "cell_type": "code",
   "execution_count": 6,
   "metadata": {},
   "outputs": [],
   "source": [
    "df = pd.DataFrame()\n",
    "for group in groups.find():\n",
    "    df = pd.concat([df,  pd.DataFrame(group['data'])], sort=True)"
   ]
  },
  {
   "cell_type": "code",
   "execution_count": 7,
   "metadata": {},
   "outputs": [
    {
     "data": {
      "text/plain": [
       "0"
      ]
     },
     "execution_count": 7,
     "metadata": {},
     "output_type": "execute_result"
    }
   ],
   "source": [
    "df.duplicated('id').sum()"
   ]
  },
  {
   "cell_type": "code",
   "execution_count": null,
   "metadata": {},
   "outputs": [],
   "source": [
    "crummydf = pd.DataFrame(list(groups.find()))\n",
    "pd.DataFrame(crummydf['data'][0])"
   ]
  },
  {
   "cell_type": "code",
   "execution_count": null,
   "metadata": {},
   "outputs": [],
   "source": [
    "len(df)"
   ]
  },
  {
   "cell_type": "markdown",
   "metadata": {},
   "source": [
    "status should all = past so it's not a usful feature\n",
    "maybe_rsvp_count won't be determined until the event has been planned\n",
    "for a little bit and the creator has no control over it, this feature seems not usful same goes for rating\n",
    "I'm on the fence about update, it's not something that happens at the time of the event creation but it is something the creator has control of, maybe I'll include it later but for now I'm droping it"
   ]
  },
  {
   "cell_type": "code",
   "execution_count": null,
   "metadata": {},
   "outputs": [],
   "source": [
    "df = df.drop(['maybe_rsvp_count', \n",
    "              'status', \n",
    "              'rating', \n",
    "              'updated', \n",
    "              'event_url',\n",
    "              'headcount'], axis=1)"
   ]
  },
  {
   "cell_type": "code",
   "execution_count": null,
   "metadata": {},
   "outputs": [],
   "source": [
    "df.head()"
   ]
  }
 ],
 "metadata": {
  "kernelspec": {
   "display_name": "Python 3",
   "language": "python",
   "name": "python3"
  },
  "language_info": {
   "codemirror_mode": {
    "name": "ipython",
    "version": 3
   },
   "file_extension": ".py",
   "mimetype": "text/x-python",
   "name": "python",
   "nbconvert_exporter": "python",
   "pygments_lexer": "ipython3",
   "version": "3.6.6"
  }
 },
 "nbformat": 4,
 "nbformat_minor": 2
}

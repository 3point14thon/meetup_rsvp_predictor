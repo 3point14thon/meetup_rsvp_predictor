{
 "cells": [
  {
   "cell_type": "code",
   "execution_count": 1,
   "metadata": {},
   "outputs": [],
   "source": [
    "import pandas as pd\n",
    "from pymongo import MongoClient\n",
    "from sklearn.feature_extraction.text import TfidfVectorizer\n",
    "from sklearn.naive_bayes import GaussianNB\n",
    "from sklearn.model_selection import train_test_split\n",
    "import datetime as dt\n",
    "import clean_data\n",
    "import numpy as np\n",
    "from get_sample_data import get_data_from_mongo\n",
    "import json\n",
    "from io import StringIO"
   ]
  },
  {
   "cell_type": "code",
   "execution_count": 2,
   "metadata": {},
   "outputs": [],
   "source": [
    "mc = MongoClient()\n",
    "db = mc['meetups']\n",
    "events = db['past_3years_meetup_events']\n",
    "groups = db['groups']\n",
    "ed = db['events_data']"
   ]
  },
  {
   "cell_type": "code",
   "execution_count": 3,
   "metadata": {},
   "outputs": [],
   "source": [
    "shard = get_data_from_mongo(0.5)"
   ]
  },
  {
   "cell_type": "code",
   "execution_count": 4,
   "metadata": {},
   "outputs": [],
   "source": [
    "df = pd.DataFrame(shard)"
   ]
  },
  {
   "cell_type": "code",
   "execution_count": 172,
   "metadata": {},
   "outputs": [],
   "source": [
    "df.to_csv('data', compression='gzip')"
   ]
  },
  {
   "cell_type": "code",
   "execution_count": 173,
   "metadata": {},
   "outputs": [
    {
     "name": "stderr",
     "output_type": "stream",
     "text": [
      "/home/cb/anaconda3/lib/python3.6/site-packages/IPython/core/interactiveshell.py:2785: DtypeWarning: Columns (33) have mixed types. Specify dtype option on import or set low_memory=False.\n",
      "  interactivity=interactivity, compiler=compiler, result=result)\n"
     ]
    }
   ],
   "source": [
    "meetup_data = pd.read_csv('data', compression='gzip')"
   ]
  },
  {
   "cell_type": "code",
   "execution_count": 6,
   "metadata": {},
   "outputs": [
    {
     "data": {
      "text/plain": [
       "_id                                      0\n",
       "created                              35824\n",
       "description                          38612\n",
       "description_images                   35824\n",
       "duration                             62071\n",
       "event_hosts                          47709\n",
       "featured                             35824\n",
       "featured_photo                      145322\n",
       "fee                                 147257\n",
       "fee_options                          35824\n",
       "group                                   27\n",
       "how_to_find_us                      107196\n",
       "id                                      27\n",
       "link                                    27\n",
       "local_date                              27\n",
       "local_time                              27\n",
       "manual_attendance_count             150887\n",
       "name                                    27\n",
       "plain_text_no_images_description     35824\n",
       "pro_is_email_shared                 152741\n",
       "rsvp_close_offset                   149762\n",
       "rsvp_limit                          129577\n",
       "rsvp_open_offset                    153782\n",
       "rsvp_rules                           35824\n",
       "series                              125640\n",
       "status                               35824\n",
       "time                                    27\n",
       "updated                              35824\n",
       "utc_offset                              27\n",
       "venue                                51395\n",
       "visibility                              27\n",
       "waitlist_count                          27\n",
       "why                                 154881\n",
       "yes_rsvp_count                          27\n",
       "dtype: int64"
      ]
     },
     "execution_count": 6,
     "metadata": {},
     "output_type": "execute_result"
    }
   ],
   "source": [
    "df.isnull().sum()"
   ]
  },
  {
   "cell_type": "code",
   "execution_count": 7,
   "metadata": {},
   "outputs": [],
   "source": [
    "no_null_lables = df[~df['yes_rsvp_count'].isnull()]"
   ]
  },
  {
   "cell_type": "code",
   "execution_count": 8,
   "metadata": {},
   "outputs": [
    {
     "data": {
      "text/plain": [
       "_id                                      0\n",
       "created                              35797\n",
       "description                          38585\n",
       "description_images                   35797\n",
       "duration                             62044\n",
       "event_hosts                          47682\n",
       "featured                             35797\n",
       "featured_photo                      145295\n",
       "fee                                 147230\n",
       "fee_options                          35797\n",
       "group                                    0\n",
       "how_to_find_us                      107169\n",
       "id                                       0\n",
       "link                                     0\n",
       "local_date                               0\n",
       "local_time                               0\n",
       "manual_attendance_count             150860\n",
       "name                                     0\n",
       "plain_text_no_images_description     35797\n",
       "pro_is_email_shared                 152714\n",
       "rsvp_close_offset                   149735\n",
       "rsvp_limit                          129550\n",
       "rsvp_open_offset                    153755\n",
       "rsvp_rules                           35797\n",
       "series                              125613\n",
       "status                               35797\n",
       "time                                     0\n",
       "updated                              35797\n",
       "utc_offset                               0\n",
       "venue                                51368\n",
       "visibility                               0\n",
       "waitlist_count                           0\n",
       "why                                 154854\n",
       "yes_rsvp_count                           0\n",
       "dtype: int64"
      ]
     },
     "execution_count": 8,
     "metadata": {},
     "output_type": "execute_result"
    }
   ],
   "source": [
    "no_null_lables.isnull().sum()"
   ]
  },
  {
   "cell_type": "code",
   "execution_count": 10,
   "metadata": {},
   "outputs": [
    {
     "data": {
      "text/plain": [
       "'https://www.meetup.com/Seattle-Kubernetes-Meetup/events/224650081/'"
      ]
     },
     "execution_count": 10,
     "metadata": {},
     "output_type": "execute_result"
    }
   ],
   "source": [
    "no_null_lables['link'][0]"
   ]
  },
  {
   "cell_type": "code",
   "execution_count": 123,
   "metadata": {},
   "outputs": [],
   "source": [
    "visibility_nulls = no_null_lables[no_null_lables['created'].isnull()]"
   ]
  },
  {
   "cell_type": "code",
   "execution_count": 11,
   "metadata": {},
   "outputs": [
    {
     "data": {
      "text/plain": [
       "_id                                     0\n",
       "created                             35797\n",
       "description                         35797\n",
       "description_images                  35797\n",
       "duration                            15414\n",
       "event_hosts                         35797\n",
       "featured                            35797\n",
       "featured_photo                      35797\n",
       "fee                                 35797\n",
       "fee_options                         35797\n",
       "group                                   0\n",
       "how_to_find_us                      35797\n",
       "id                                      0\n",
       "link                                    0\n",
       "local_date                              0\n",
       "local_time                              0\n",
       "manual_attendance_count             35797\n",
       "name                                    0\n",
       "plain_text_no_images_description    35797\n",
       "pro_is_email_shared                 35797\n",
       "rsvp_close_offset                   35797\n",
       "rsvp_limit                          35797\n",
       "rsvp_open_offset                    35797\n",
       "rsvp_rules                          35797\n",
       "series                              35797\n",
       "status                              35797\n",
       "time                                    0\n",
       "updated                             35797\n",
       "utc_offset                              0\n",
       "venue                               35797\n",
       "visibility                              0\n",
       "waitlist_count                          0\n",
       "why                                 35797\n",
       "yes_rsvp_count                          0\n",
       "dtype: int64"
      ]
     },
     "execution_count": 11,
     "metadata": {},
     "output_type": "execute_result"
    }
   ],
   "source": [
    "visibility_nulls.isnull().sum()"
   ]
  },
  {
   "cell_type": "code",
   "execution_count": 124,
   "metadata": {},
   "outputs": [],
   "source": [
    "no_limited_viz = no_null_lables[no_null_lables['visibility'] != 'public_limited']"
   ]
  },
  {
   "cell_type": "code",
   "execution_count": 175,
   "metadata": {},
   "outputs": [
    {
     "data": {
      "text/plain": [
       "_id                                      0\n",
       "created                                  0\n",
       "description                           2788\n",
       "description_images                       0\n",
       "duration                             46630\n",
       "event_hosts                          11885\n",
       "featured                                 0\n",
       "featured_photo                      109498\n",
       "fee                                 111433\n",
       "fee_options                              0\n",
       "group                                    0\n",
       "how_to_find_us                       71372\n",
       "id                                       0\n",
       "link                                     0\n",
       "local_date                               0\n",
       "local_time                               0\n",
       "manual_attendance_count             115063\n",
       "name                                     0\n",
       "plain_text_no_images_description         0\n",
       "pro_is_email_shared                 116917\n",
       "rsvp_close_offset                   113938\n",
       "rsvp_limit                           93753\n",
       "rsvp_open_offset                    117958\n",
       "rsvp_rules                               0\n",
       "series                               89816\n",
       "status                                   0\n",
       "time                                     0\n",
       "updated                                  0\n",
       "utc_offset                               0\n",
       "venue                                15571\n",
       "visibility                               0\n",
       "waitlist_count                           0\n",
       "why                                 119057\n",
       "yes_rsvp_count                           0\n",
       "dtype: int64"
      ]
     },
     "execution_count": 175,
     "metadata": {},
     "output_type": "execute_result"
    }
   ],
   "source": [
    "no_limited_viz.isnull().sum()"
   ]
  },
  {
   "cell_type": "markdown",
   "metadata": {},
   "source": [
    "Description nans are '' or I don't have access to them"
   ]
  }
 ],
 "metadata": {
  "kernelspec": {
   "display_name": "Python 3",
   "language": "python",
   "name": "python3"
  },
  "language_info": {
   "codemirror_mode": {
    "name": "ipython",
    "version": 3
   },
   "file_extension": ".py",
   "mimetype": "text/x-python",
   "name": "python",
   "nbconvert_exporter": "python",
   "pygments_lexer": "ipython3",
   "version": "3.6.6"
  }
 },
 "nbformat": 4,
 "nbformat_minor": 2
}
